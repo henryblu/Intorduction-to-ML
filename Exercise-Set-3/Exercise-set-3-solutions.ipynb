{
 "cells": [
  {
   "cell_type": "markdown",
   "metadata": {},
   "source": [
    "# Exercise set 2"
   ]
  },
  {
   "cell_type": "markdown",
   "metadata": {},
   "source": [
    "## Declaration of generative AI use\n",
    "please note that I have used generative AI to do formatting for markdown cells and commenting on my code. \n",
    "I have not used generative ai for the creation of any of my code or text."
   ]
  },
  {
   "cell_type": "markdown",
   "metadata": {},
   "source": [
    "## Problem 17\n",
    "\n",
    "### Problem 17 Task a\n",
    "\n",
    "1. For what kinds of tasks can we use the K-means algorithm?\n",
    "\n",
    "    - The K-means algorithm is used for clustering data into k sets in an unsupervised way. This means that we can use this algorithm for tasks that require identifying natural groupings in datasets which do not have a predetermined response variable.\n",
    "    - Some examples of specific applications include market segmentation, data compression, and pattern recognition.\n",
    "2. What are the algorithm’s inputs and outputs?\n",
    "\n",
    "    - The input of the algorithm:\n",
    "    1. is a dataset with n observations of data\n",
    "    2. K, the number of clusters you want\n",
    "    - The output of the algorithm:\n",
    "    1. The dataset partitioned into k clusters.\n",
    "    2. The centroid of each cluster.\n",
    "3. How should you interpret the results?\n",
    "    - There are a few ways you can interpret the results. The clusters themselves identify the natural groupings in the dataset. Whereas the cluster centroids show the degree to which the data in the clusters share attributes.\n",
    "    - To further interpret the results, you should evaluate the characteristics of the clusters, such as their size, common features, attributes, and dimensions.\n"
   ]
  }
 ],
 "metadata": {
  "language_info": {
   "name": "python"
  }
 },
 "nbformat": 4,
 "nbformat_minor": 2
}
