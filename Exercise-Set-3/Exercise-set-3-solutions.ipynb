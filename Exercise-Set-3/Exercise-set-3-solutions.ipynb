{
 "cells": [
  {
   "cell_type": "markdown",
   "metadata": {},
   "source": [
    "# Exercise set 2"
   ]
  },
  {
   "cell_type": "markdown",
   "metadata": {},
   "source": [
    "## Declaration of generative AI use\n",
    "please note that I have used generative AI to do formatting for markdown cells and commenting on my code. \n",
    "I have not used generative ai for the creation of any of my code or text."
   ]
  },
  {
   "cell_type": "markdown",
   "metadata": {},
   "source": [
    "## Problem 17\n",
    "\n",
    "### Problem 17 Task a\n",
    "\n",
    "1. For what kinds of tasks can we use the K-means algorithm?\n",
    "\n",
    "    - The K-means algorithm is used for clustering data into k sets in an unsupervised way. This means that we can use this algorithm for tasks that require identifying natural groupings in datasets which do not have a predetermined response variable.\n",
    "    - Some examples of specific applications include market segmentation, data compression, and pattern recognition.\n",
    "2. What are the algorithm’s inputs and outputs?\n",
    "\n",
    "    - The input of the algorithm:\n",
    "    1. is a dataset with n observations of data\n",
    "    2. K, the number of clusters you want\n",
    "    - The output of the algorithm:\n",
    "    1. The dataset partitioned into k clusters.\n",
    "    2. The centroid of each cluster.\n",
    "3. How should you interpret the results?\n",
    "    - There are a few ways you can interpret the results. The clusters themselves identify the natural groupings in the dataset. Whereas the cluster centroids show the degree to which the data in the clusters share attributes.\n",
    "    - To further interpret the results, you should evaluate the characteristics of the clusters, such as their size, common features, attributes, and dimensions.\n",
    "\n",
    "### Problem 17 Task B: \n",
    "\n",
    "1. **Objective Function in K-Means Algorithm**:\n",
    "   \n",
    "    The K-means algorithm aims to minimize the \"within-cluster variation,\" also known as the \"within-cluster sum of squares.\" The cost function \\( J \\) for K-means is defined as:\n",
    "\n",
    "    $$\n",
    "    J = \\sum_{k=1}^{K} \\frac{1}{|C_k|} \\sum_{i,i' \\in C_k} \\sum_{j=1}^{p} (x_{ij} - x_{i'j})^2.\n",
    "    $$\n",
    "\n",
    "    Where:\n",
    "    - \\( K \\) is the number of clusters,\n",
    "    - \\( C_k \\) represents the set of all data points assigned to cluster \\( k \\),\n",
    "    - \\( x_{ij} \\) denotes the \\( j \\)-th feature of the \\( i \\)-th data point in cluster \\( C_k \\),\n",
    "    - The term \\( (x_{ij} - x_{i'j})^2 \\) indicates the squared difference between the \\( j \\)-th features of the \\( i \\)-th and \\( i' \\)-th data points in the same cluster \\( C_k \\),\n",
    "    - \\( |C_k| \\) signifies the number of data points in cluster \\( C_k \\).\n",
    "\n",
    "2. **Behavior of the Objective Function During Iterations**:\n",
    "   \n",
    "    As the algorithm iterates, the value of the objective function generally decreases. This decrease is not consistent in every iteration but rather shows a downward trend.\n",
    "\n",
    "### Problem 17 task c: \n",
    "\n"
   ]
  },
  {
   "cell_type": "markdown",
   "metadata": {},
   "source": []
  }
 ],
 "metadata": {
  "language_info": {
   "name": "python"
  }
 },
 "nbformat": 4,
 "nbformat_minor": 2
}
